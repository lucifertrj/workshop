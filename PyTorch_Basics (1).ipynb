{
  "cells": [
    {
      "cell_type": "markdown",
      "id": "31d2377f",
      "metadata": {
        "id": "31d2377f"
      },
      "source": [
        "## Get Started with PyTorch\n",
        "\n",
        "An open source machine learning framework that accelerates the path from research prototyping to production deployment.\n",
        "\n",
        "```py\n",
        "pip install torch\n",
        "```"
      ]
    },
    {
      "cell_type": "markdown",
      "id": "d43e5cd2",
      "metadata": {
        "id": "d43e5cd2"
      },
      "source": [
        "### Table of Contents:\n",
        "\n",
        "1. [Basics](#Basics)\n",
        "2. [Tensor Operations](#Basic_Operations)\n",
        "3. [Extra PyTorch operations based on Tensor Shape](#Extra_PyTorch_operations_based_on_Tensor_Shape)\n",
        "4. [Ouickstart- Build A Neural Network](#Quickstart)"
      ]
    },
    {
      "cell_type": "code",
      "execution_count": 1,
      "id": "9aef364e",
      "metadata": {
        "id": "9aef364e"
      },
      "outputs": [],
      "source": [
        "import torch\n",
        "import numpy as np"
      ]
    },
    {
      "cell_type": "markdown",
      "id": "8768fe90",
      "metadata": {
        "id": "8768fe90"
      },
      "source": [
        "## Basics\n",
        "\n",
        "Just like Tensorflow, we shall continue playing with Tensors in PyTorch as well."
      ]
    },
    {
      "cell_type": "markdown",
      "id": "aaff9184",
      "metadata": {
        "id": "aaff9184"
      },
      "source": [
        "### Create Tensor From Data(List)"
      ]
    },
    {
      "cell_type": "code",
      "execution_count": 2,
      "id": "0e93d728",
      "metadata": {
        "id": "0e93d728"
      },
      "outputs": [],
      "source": [
        "data = [[1, 2],[3, 4]]\n",
        "tensors = torch.tensor(data)"
      ]
    },
    {
      "cell_type": "code",
      "execution_count": 3,
      "id": "8cebc8b9",
      "metadata": {
        "colab": {
          "base_uri": "https://localhost:8080/"
        },
        "id": "8cebc8b9",
        "outputId": "317471e2-56f9-41b2-8f00-2680a4a03701"
      },
      "outputs": [
        {
          "output_type": "execute_result",
          "data": {
            "text/plain": [
              "tensor([[1, 2],\n",
              "        [3, 4]])"
            ]
          },
          "metadata": {},
          "execution_count": 3
        }
      ],
      "source": [
        "tensors"
      ]
    },
    {
      "cell_type": "markdown",
      "id": "9169b4f1",
      "metadata": {
        "id": "9169b4f1"
      },
      "source": [
        "### Create from NumPy"
      ]
    },
    {
      "cell_type": "code",
      "execution_count": 4,
      "id": "9540e703",
      "metadata": {
        "id": "9540e703"
      },
      "outputs": [],
      "source": [
        "np_array = np.arange(10)\n",
        "tensor_np = torch.from_numpy(np_array)"
      ]
    },
    {
      "cell_type": "code",
      "execution_count": 5,
      "id": "470b3cab",
      "metadata": {
        "colab": {
          "base_uri": "https://localhost:8080/"
        },
        "id": "470b3cab",
        "outputId": "80de368d-f206-47eb-b324-f7cbfa613274"
      },
      "outputs": [
        {
          "output_type": "execute_result",
          "data": {
            "text/plain": [
              "tensor([0, 1, 2, 3, 4, 5, 6, 7, 8, 9])"
            ]
          },
          "metadata": {},
          "execution_count": 5
        }
      ],
      "source": [
        "tensor_np"
      ]
    },
    {
      "cell_type": "markdown",
      "id": "e78a0930",
      "metadata": {
        "id": "e78a0930"
      },
      "source": [
        "### Shape, ndim and dtype"
      ]
    },
    {
      "cell_type": "markdown",
      "id": "de7179fd",
      "metadata": {
        "id": "de7179fd"
      },
      "source": [
        "This is same as we saw in Numpy Tutorial - Day 1"
      ]
    },
    {
      "cell_type": "code",
      "execution_count": 6,
      "id": "5a233a5b",
      "metadata": {
        "colab": {
          "base_uri": "https://localhost:8080/"
        },
        "id": "5a233a5b",
        "outputId": "245ce875-dcf6-4b86-9509-697ceec960c5"
      },
      "outputs": [
        {
          "output_type": "execute_result",
          "data": {
            "text/plain": [
              "torch.Size([10])"
            ]
          },
          "metadata": {},
          "execution_count": 6
        }
      ],
      "source": [
        "tensor_np.shape"
      ]
    },
    {
      "cell_type": "code",
      "execution_count": 7,
      "id": "87deaa30",
      "metadata": {
        "colab": {
          "base_uri": "https://localhost:8080/"
        },
        "id": "87deaa30",
        "outputId": "1943e3c3-74ee-4ea8-c64d-d70ee891f4fc"
      },
      "outputs": [
        {
          "output_type": "execute_result",
          "data": {
            "text/plain": [
              "1"
            ]
          },
          "metadata": {},
          "execution_count": 7
        }
      ],
      "source": [
        "tensor_np.ndim"
      ]
    },
    {
      "cell_type": "code",
      "execution_count": 8,
      "id": "dbd6e97e",
      "metadata": {
        "colab": {
          "base_uri": "https://localhost:8080/"
        },
        "id": "dbd6e97e",
        "outputId": "ea9f3c58-4e76-498f-e5c7-ef02eb59c7b5"
      },
      "outputs": [
        {
          "output_type": "execute_result",
          "data": {
            "text/plain": [
              "torch.int64"
            ]
          },
          "metadata": {},
          "execution_count": 8
        }
      ],
      "source": [
        "tensor_np.dtype"
      ]
    },
    {
      "cell_type": "markdown",
      "id": "d61276ce",
      "metadata": {
        "id": "d61276ce"
      },
      "source": [
        "## Tensor_Operations"
      ]
    },
    {
      "cell_type": "code",
      "execution_count": 9,
      "id": "4f1ec9cd",
      "metadata": {
        "colab": {
          "base_uri": "https://localhost:8080/"
        },
        "id": "4f1ec9cd",
        "outputId": "2605d345-6999-4250-d22c-bdeefcf00046"
      },
      "outputs": [
        {
          "output_type": "execute_result",
          "data": {
            "text/plain": [
              "tensor([5, 7, 9])"
            ]
          },
          "metadata": {},
          "execution_count": 9
        }
      ],
      "source": [
        "ten1 = torch.tensor([1,2,3])\n",
        "ten2 = torch.tensor([4,5,6])\n",
        "ten1+ten2"
      ]
    },
    {
      "cell_type": "markdown",
      "id": "c8328ba7",
      "metadata": {
        "id": "c8328ba7"
      },
      "source": [
        "You can either use `+` or `torch.add` to perform Tensor Additions"
      ]
    },
    {
      "cell_type": "code",
      "execution_count": 10,
      "id": "fce4d567",
      "metadata": {
        "colab": {
          "base_uri": "https://localhost:8080/"
        },
        "id": "fce4d567",
        "outputId": "4da278d6-ecbc-4b95-db0a-450adcb4a376"
      },
      "outputs": [
        {
          "output_type": "execute_result",
          "data": {
            "text/plain": [
              "tensor([5, 7, 9])"
            ]
          },
          "metadata": {},
          "execution_count": 10
        }
      ],
      "source": [
        "torch.add(ten1,ten2)"
      ]
    },
    {
      "cell_type": "code",
      "execution_count": 11,
      "id": "29f0aab2",
      "metadata": {
        "colab": {
          "base_uri": "https://localhost:8080/"
        },
        "id": "29f0aab2",
        "outputId": "7ff13fc5-f55b-4a0a-cc7c-82c09fd84a6f"
      },
      "outputs": [
        {
          "output_type": "execute_result",
          "data": {
            "text/plain": [
              "tensor([3, 3, 3])"
            ]
          },
          "metadata": {},
          "execution_count": 11
        }
      ],
      "source": [
        "torch.sub(ten2,ten1)"
      ]
    },
    {
      "cell_type": "code",
      "execution_count": 12,
      "id": "db0fd086",
      "metadata": {
        "colab": {
          "base_uri": "https://localhost:8080/"
        },
        "id": "db0fd086",
        "outputId": "9fa73f19-13fa-43f0-8857-a308a91e9e41"
      },
      "outputs": [
        {
          "output_type": "execute_result",
          "data": {
            "text/plain": [
              "tensor([3, 3, 3])"
            ]
          },
          "metadata": {},
          "execution_count": 12
        }
      ],
      "source": [
        "torch.subtract(ten2,ten1)"
      ]
    },
    {
      "cell_type": "markdown",
      "id": "e53776ad",
      "metadata": {
        "id": "e53776ad"
      },
      "source": [
        "You can either use `-` or `torch.sub` to perform Tensor Additions"
      ]
    },
    {
      "cell_type": "code",
      "execution_count": 13,
      "id": "215883ba",
      "metadata": {
        "colab": {
          "base_uri": "https://localhost:8080/"
        },
        "id": "215883ba",
        "outputId": "72d8af3f-a6cd-4632-cb04-864fe06240ef"
      },
      "outputs": [
        {
          "output_type": "execute_result",
          "data": {
            "text/plain": [
              "tensor([10, 20, 30])"
            ]
          },
          "metadata": {},
          "execution_count": 13
        }
      ],
      "source": [
        "ten1*10"
      ]
    },
    {
      "cell_type": "markdown",
      "id": "849d9cde",
      "metadata": {
        "id": "849d9cde"
      },
      "source": [
        "### very important operation in Deep Learning- Matrix Multiplication"
      ]
    },
    {
      "cell_type": "markdown",
      "id": "4814cf22",
      "metadata": {
        "id": "4814cf22"
      },
      "source": [
        "***Rules of Matrix Multiplication:***\n",
        "- (3,2) * (3,2) = Error\n",
        "- (4,3) * (3,2) = (4,2)\n",
        "- (2,2) * (2,5) = (2,5)"
      ]
    },
    {
      "cell_type": "code",
      "execution_count": 14,
      "id": "f54802e3",
      "metadata": {
        "colab": {
          "base_uri": "https://localhost:8080/"
        },
        "id": "f54802e3",
        "outputId": "bc1420ff-df84-4a1a-dab2-87e3653b141b"
      },
      "outputs": [
        {
          "output_type": "execute_result",
          "data": {
            "text/plain": [
              "tensor(32)"
            ]
          },
          "metadata": {},
          "execution_count": 14
        }
      ],
      "source": [
        "torch.matmul(ten1,ten2)"
      ]
    },
    {
      "cell_type": "code",
      "execution_count": 15,
      "id": "d9a4e0de",
      "metadata": {
        "id": "d9a4e0de"
      },
      "outputs": [],
      "source": [
        "matrix4_3 = torch.tensor([[1,2,3],\n",
        "                        [4,5,6],\n",
        "                        [7,8,9],\n",
        "                        [10,11,12]])"
      ]
    },
    {
      "cell_type": "code",
      "execution_count": 16,
      "id": "cb1a1ec3",
      "metadata": {
        "colab": {
          "base_uri": "https://localhost:8080/"
        },
        "id": "cb1a1ec3",
        "outputId": "f6a85b7d-7cda-4749-ea9b-4e17bd1b0350"
      },
      "outputs": [
        {
          "output_type": "execute_result",
          "data": {
            "text/plain": [
              "torch.Size([4, 3])"
            ]
          },
          "metadata": {},
          "execution_count": 16
        }
      ],
      "source": [
        "matrix4_3.shape"
      ]
    },
    {
      "cell_type": "code",
      "execution_count": 17,
      "id": "218e3d59",
      "metadata": {
        "id": "218e3d59"
      },
      "outputs": [],
      "source": [
        "matrix3_2 = torch.tensor([[1,2],\n",
        "                        [3,4],\n",
        "                        [5,6]])"
      ]
    },
    {
      "cell_type": "code",
      "execution_count": 18,
      "id": "a77c8860",
      "metadata": {
        "colab": {
          "base_uri": "https://localhost:8080/"
        },
        "id": "a77c8860",
        "outputId": "04d98ae3-422b-4fc1-f536-8d3a1ee71973"
      },
      "outputs": [
        {
          "output_type": "execute_result",
          "data": {
            "text/plain": [
              "torch.Size([3, 2])"
            ]
          },
          "metadata": {},
          "execution_count": 18
        }
      ],
      "source": [
        "matrix3_2.shape"
      ]
    },
    {
      "cell_type": "code",
      "execution_count": 19,
      "id": "cac5f2d4",
      "metadata": {
        "id": "cac5f2d4"
      },
      "outputs": [],
      "source": [
        "result = torch.matmul(matrix4_3,matrix3_2) #=> will result in (4,2)"
      ]
    },
    {
      "cell_type": "code",
      "execution_count": 20,
      "id": "fc0a77a5",
      "metadata": {
        "colab": {
          "base_uri": "https://localhost:8080/"
        },
        "id": "fc0a77a5",
        "outputId": "fe0d131a-3b3d-4bda-de6a-e3dee693446c"
      },
      "outputs": [
        {
          "output_type": "execute_result",
          "data": {
            "text/plain": [
              "tensor([[ 22,  28],\n",
              "        [ 49,  64],\n",
              "        [ 76, 100],\n",
              "        [103, 136]])"
            ]
          },
          "metadata": {},
          "execution_count": 20
        }
      ],
      "source": [
        "result"
      ]
    },
    {
      "cell_type": "code",
      "execution_count": 21,
      "id": "8bea8a62",
      "metadata": {
        "colab": {
          "base_uri": "https://localhost:8080/"
        },
        "id": "8bea8a62",
        "outputId": "395c79b0-e277-470e-e7e5-4cb348f7fa60"
      },
      "outputs": [
        {
          "output_type": "execute_result",
          "data": {
            "text/plain": [
              "torch.Size([4, 2])"
            ]
          },
          "metadata": {},
          "execution_count": 21
        }
      ],
      "source": [
        "result.shape"
      ]
    },
    {
      "cell_type": "markdown",
      "id": "a0eb61c3",
      "metadata": {
        "id": "a0eb61c3"
      },
      "source": [
        "You can also use `torch.mm()` which is a short for `torch.matmul()`"
      ]
    },
    {
      "cell_type": "code",
      "execution_count": 22,
      "id": "52bf9c4d",
      "metadata": {
        "colab": {
          "base_uri": "https://localhost:8080/"
        },
        "id": "52bf9c4d",
        "outputId": "7e9b5f39-fef5-4c55-a659-f8cad8e21b2c"
      },
      "outputs": [
        {
          "output_type": "execute_result",
          "data": {
            "text/plain": [
              "tensor([[ 22,  28],\n",
              "        [ 49,  64],\n",
              "        [ 76, 100],\n",
              "        [103, 136]])"
            ]
          },
          "metadata": {},
          "execution_count": 22
        }
      ],
      "source": [
        "torch.mm(matrix4_3,matrix3_2)"
      ]
    },
    {
      "cell_type": "code",
      "execution_count": 23,
      "id": "f0b13279",
      "metadata": {
        "colab": {
          "base_uri": "https://localhost:8080/"
        },
        "id": "f0b13279",
        "outputId": "0db46ae5-5a2b-4958-8bef-c5550ee89832"
      },
      "outputs": [
        {
          "output_type": "execute_result",
          "data": {
            "text/plain": [
              "tensor([[ 1,  2,  3],\n",
              "        [ 4,  5,  6],\n",
              "        [ 7,  8,  9],\n",
              "        [10, 11, 12]])"
            ]
          },
          "metadata": {},
          "execution_count": 23
        }
      ],
      "source": [
        "#transpose of tensor\n",
        "matrix4_3"
      ]
    },
    {
      "cell_type": "code",
      "execution_count": 24,
      "id": "d87f4e45",
      "metadata": {
        "colab": {
          "base_uri": "https://localhost:8080/"
        },
        "id": "d87f4e45",
        "outputId": "71d581fe-703d-4491-ecce-43ed69782914"
      },
      "outputs": [
        {
          "output_type": "execute_result",
          "data": {
            "text/plain": [
              "tensor([[ 1,  4,  7, 10],\n",
              "        [ 2,  5,  8, 11],\n",
              "        [ 3,  6,  9, 12]])"
            ]
          },
          "metadata": {},
          "execution_count": 24
        }
      ],
      "source": [
        "matrix4_3.T"
      ]
    },
    {
      "cell_type": "code",
      "execution_count": 25,
      "id": "8d38fa02",
      "metadata": {
        "colab": {
          "base_uri": "https://localhost:8080/"
        },
        "id": "8d38fa02",
        "outputId": "ef20bb6c-bfb3-473e-ceef-431698bc0ae5"
      },
      "outputs": [
        {
          "output_type": "execute_result",
          "data": {
            "text/plain": [
              "tensor([[ 1,  4,  7, 10],\n",
              "        [ 2,  5,  8, 11],\n",
              "        [ 3,  6,  9, 12]])"
            ]
          },
          "metadata": {},
          "execution_count": 25
        }
      ],
      "source": [
        "torch.t(matrix4_3)"
      ]
    },
    {
      "cell_type": "markdown",
      "id": "05caa5fa",
      "metadata": {
        "id": "05caa5fa"
      },
      "source": [
        "## Extra_PyTorch_operations_based_on_Tensor_Shape\n",
        "- Zeros\n",
        "- Ones\n",
        "- Random\n",
        "- Full"
      ]
    },
    {
      "cell_type": "code",
      "execution_count": 26,
      "id": "a65d0809",
      "metadata": {
        "colab": {
          "base_uri": "https://localhost:8080/"
        },
        "id": "a65d0809",
        "outputId": "e09353ef-6e5f-4d97-a648-94483686164d"
      },
      "outputs": [
        {
          "output_type": "execute_result",
          "data": {
            "text/plain": [
              "tensor([[0., 0., 0.],\n",
              "        [0., 0., 0.],\n",
              "        [0., 0., 0.]])"
            ]
          },
          "metadata": {},
          "execution_count": 26
        }
      ],
      "source": [
        "tensorZeroes = torch.zeros((3,3))\n",
        "tensorZeroes"
      ]
    },
    {
      "cell_type": "code",
      "execution_count": 27,
      "id": "6edfdef7",
      "metadata": {
        "colab": {
          "base_uri": "https://localhost:8080/"
        },
        "id": "6edfdef7",
        "outputId": "cc69d1c1-bea1-40e9-b1fb-64af36c21bdd"
      },
      "outputs": [
        {
          "output_type": "execute_result",
          "data": {
            "text/plain": [
              "tensor([[1., 1., 1.],\n",
              "        [1., 1., 1.],\n",
              "        [1., 1., 1.]])"
            ]
          },
          "metadata": {},
          "execution_count": 27
        }
      ],
      "source": [
        "tensorOnes = torch.ones((3,3))\n",
        "tensorOnes"
      ]
    },
    {
      "cell_type": "code",
      "execution_count": 28,
      "id": "a8c85dbf",
      "metadata": {
        "colab": {
          "base_uri": "https://localhost:8080/"
        },
        "id": "a8c85dbf",
        "outputId": "330ac24e-3cc6-4996-8c89-7d5f6ba153d3"
      },
      "outputs": [
        {
          "output_type": "execute_result",
          "data": {
            "text/plain": [
              "tensor([[ 1.3812,  0.4696, -0.0966],\n",
              "        [ 0.3986,  2.4290, -1.0200],\n",
              "        [-0.2820,  1.3529,  1.0396]])"
            ]
          },
          "metadata": {},
          "execution_count": 28
        }
      ],
      "source": [
        "tensorRandomN = torch.randn((3,3))  #includes negative tensors\n",
        "tensorRandomN"
      ]
    },
    {
      "cell_type": "code",
      "execution_count": 29,
      "id": "0b8af346",
      "metadata": {
        "scrolled": true,
        "colab": {
          "base_uri": "https://localhost:8080/"
        },
        "id": "0b8af346",
        "outputId": "08da48b1-2e20-4705-caa1-a65926a274e1"
      },
      "outputs": [
        {
          "output_type": "execute_result",
          "data": {
            "text/plain": [
              "tensor([[0.4463, 0.1321, 0.0395],\n",
              "        [0.0609, 0.9167, 0.6766],\n",
              "        [0.9215, 0.3335, 0.7627]])"
            ]
          },
          "metadata": {},
          "execution_count": 29
        }
      ],
      "source": [
        "tensorRandom = torch.rand((3,3))  #includes only positive tensors\n",
        "tensorRandom"
      ]
    },
    {
      "cell_type": "code",
      "execution_count": 30,
      "id": "4545985d",
      "metadata": {
        "colab": {
          "base_uri": "https://localhost:8080/"
        },
        "id": "4545985d",
        "outputId": "a9746a52-f020-463e-853b-739c2abcfff8"
      },
      "outputs": [
        {
          "output_type": "execute_result",
          "data": {
            "text/plain": [
              "tensor([[5, 5, 5],\n",
              "        [5, 5, 5],\n",
              "        [5, 5, 5]])"
            ]
          },
          "metadata": {},
          "execution_count": 30
        }
      ],
      "source": [
        "customFill = torch.full((3,3),5)\n",
        "customFill"
      ]
    },
    {
      "cell_type": "code",
      "execution_count": 31,
      "id": "2023b6be",
      "metadata": {
        "colab": {
          "base_uri": "https://localhost:8080/"
        },
        "id": "2023b6be",
        "outputId": "74cb2e24-fc9c-466e-e936-f5778f6dcf54"
      },
      "outputs": [
        {
          "output_type": "execute_result",
          "data": {
            "text/plain": [
              "tensor([[0.0100, 0.0100, 0.0100],\n",
              "        [0.0100, 0.0100, 0.0100],\n",
              "        [0.0100, 0.0100, 0.0100]])"
            ]
          },
          "metadata": {},
          "execution_count": 31
        }
      ],
      "source": [
        "initialFill = torch.full((3,3),0.01)\n",
        "initialFill"
      ]
    },
    {
      "cell_type": "markdown",
      "id": "31a4ca8c",
      "metadata": {
        "id": "31a4ca8c"
      },
      "source": [
        "## Quickstart\n",
        "\n",
        "Install Torchvision, The torchvision package consists of popular datasets, model architectures, and common image transformations for computer vision.\n",
        "\n",
        "```py\n",
        "pip install torchvision --no-deps\n",
        "```"
      ]
    },
    {
      "cell_type": "code",
      "execution_count": 32,
      "id": "9bdee1c7",
      "metadata": {
        "id": "9bdee1c7"
      },
      "outputs": [],
      "source": [
        "from torch.utils.data import DataLoader\n",
        "from torchvision import datasets\n",
        "from torchvision.transforms import ToTensor\n",
        "from torch import nn"
      ]
    },
    {
      "cell_type": "code",
      "execution_count": 33,
      "id": "2ff1c0f7",
      "metadata": {
        "colab": {
          "base_uri": "https://localhost:8080/"
        },
        "id": "2ff1c0f7",
        "outputId": "aaba95ee-728e-4fd3-9eac-1a849311dfab"
      },
      "outputs": [
        {
          "output_type": "stream",
          "name": "stdout",
          "text": [
            "Downloading http://fashion-mnist.s3-website.eu-central-1.amazonaws.com/train-images-idx3-ubyte.gz\n",
            "Downloading http://fashion-mnist.s3-website.eu-central-1.amazonaws.com/train-images-idx3-ubyte.gz to data/FashionMNIST/raw/train-images-idx3-ubyte.gz\n"
          ]
        },
        {
          "output_type": "stream",
          "name": "stderr",
          "text": [
            "100%|██████████| 26.4M/26.4M [00:01<00:00, 15.9MB/s]\n"
          ]
        },
        {
          "output_type": "stream",
          "name": "stdout",
          "text": [
            "Extracting data/FashionMNIST/raw/train-images-idx3-ubyte.gz to data/FashionMNIST/raw\n",
            "\n",
            "Downloading http://fashion-mnist.s3-website.eu-central-1.amazonaws.com/train-labels-idx1-ubyte.gz\n",
            "Downloading http://fashion-mnist.s3-website.eu-central-1.amazonaws.com/train-labels-idx1-ubyte.gz to data/FashionMNIST/raw/train-labels-idx1-ubyte.gz\n"
          ]
        },
        {
          "output_type": "stream",
          "name": "stderr",
          "text": [
            "100%|██████████| 29.5k/29.5k [00:00<00:00, 311kB/s]\n"
          ]
        },
        {
          "output_type": "stream",
          "name": "stdout",
          "text": [
            "Extracting data/FashionMNIST/raw/train-labels-idx1-ubyte.gz to data/FashionMNIST/raw\n",
            "\n",
            "Downloading http://fashion-mnist.s3-website.eu-central-1.amazonaws.com/t10k-images-idx3-ubyte.gz\n",
            "Downloading http://fashion-mnist.s3-website.eu-central-1.amazonaws.com/t10k-images-idx3-ubyte.gz to data/FashionMNIST/raw/t10k-images-idx3-ubyte.gz\n"
          ]
        },
        {
          "output_type": "stream",
          "name": "stderr",
          "text": [
            "100%|██████████| 4.42M/4.42M [00:00<00:00, 5.63MB/s]\n"
          ]
        },
        {
          "output_type": "stream",
          "name": "stdout",
          "text": [
            "Extracting data/FashionMNIST/raw/t10k-images-idx3-ubyte.gz to data/FashionMNIST/raw\n",
            "\n",
            "Downloading http://fashion-mnist.s3-website.eu-central-1.amazonaws.com/t10k-labels-idx1-ubyte.gz\n",
            "Downloading http://fashion-mnist.s3-website.eu-central-1.amazonaws.com/t10k-labels-idx1-ubyte.gz to data/FashionMNIST/raw/t10k-labels-idx1-ubyte.gz\n"
          ]
        },
        {
          "output_type": "stream",
          "name": "stderr",
          "text": [
            "100%|██████████| 5.15k/5.15k [00:00<00:00, 4.39MB/s]"
          ]
        },
        {
          "output_type": "stream",
          "name": "stdout",
          "text": [
            "Extracting data/FashionMNIST/raw/t10k-labels-idx1-ubyte.gz to data/FashionMNIST/raw\n",
            "\n"
          ]
        },
        {
          "output_type": "stream",
          "name": "stderr",
          "text": [
            "\n"
          ]
        }
      ],
      "source": [
        "# Download training data from open datasets.\n",
        "training_data = datasets.FashionMNIST(\n",
        "    root=\"data\",\n",
        "    train=True,\n",
        "    download=True,\n",
        "    transform=ToTensor(),\n",
        ")"
      ]
    },
    {
      "cell_type": "code",
      "execution_count": 34,
      "id": "15cab2d2",
      "metadata": {
        "id": "15cab2d2"
      },
      "outputs": [],
      "source": [
        "# Download test data from open datasets.\n",
        "test_data = datasets.FashionMNIST(\n",
        "    root=\"data\",\n",
        "    train=False,\n",
        "    download=True,\n",
        "    transform=ToTensor(),\n",
        ")"
      ]
    },
    {
      "cell_type": "code",
      "execution_count": null,
      "id": "5542ef43",
      "metadata": {
        "id": "5542ef43"
      },
      "outputs": [],
      "source": [
        "type(training_data)"
      ]
    },
    {
      "cell_type": "markdown",
      "id": "4fca59d2",
      "metadata": {
        "id": "4fca59d2"
      },
      "source": [
        "`Dataloader` wraps an iterable over our dataset, and supports automatic batching, sampling, shuffling and multiprocess data loading. Here we define a batch size of 64, i.e. each element in the dataloader iterable will return a batch of 64 features and labels."
      ]
    },
    {
      "cell_type": "code",
      "execution_count": 36,
      "id": "0ac95168",
      "metadata": {
        "colab": {
          "base_uri": "https://localhost:8080/",
          "height": 853
        },
        "id": "0ac95168",
        "outputId": "8adab0a9-c759-43f7-c490-fbed49e81038"
      },
      "outputs": [
        {
          "output_type": "display_data",
          "data": {
            "text/plain": [
              "<Figure size 1200x1000 with 9 Axes>"
            ],
            "image/png": "[encoded data removed]"
          },
          "metadata": {}
        }
      ],
      "source": [
        "import matplotlib.pyplot as plt\n",
        "\n",
        "plt.figure(figsize=(12,10))\n",
        "for i in range(9):\n",
        "    plt.subplot(3,3,i+1)\n",
        "    sample_image,sample_label = training_data[i]\n",
        "    plt.imshow(sample_image[0])\n",
        "    plt.title(sample_label)"
      ]
    },
    {
      "cell_type": "code",
      "execution_count": 37,
      "id": "ac2182b6",
      "metadata": {
        "colab": {
          "base_uri": "https://localhost:8080/"
        },
        "id": "ac2182b6",
        "outputId": "fa3a9e23-2eab-461a-f0d6-a3c6f59b3f68"
      },
      "outputs": [
        {
          "output_type": "stream",
          "name": "stdout",
          "text": [
            "Shape of X: torch.Size([64, 1, 28, 28])\n",
            "Shape of y: torch.Size([64])\n"
          ]
        }
      ],
      "source": [
        "batch_size = 64\n",
        "\n",
        "training = DataLoader(training_data,batch_size=batch_size)\n",
        "testing = DataLoader(test_data, batch_size=batch_size)\n",
        "\n",
        "for X, y in testing:\n",
        "    print(f\"Shape of X: {X.shape}\")\n",
        "    print(f\"Shape of y: {y.shape}\")\n",
        "    break"
      ]
    },
    {
      "cell_type": "code",
      "execution_count": 38,
      "id": "fc635cfd",
      "metadata": {
        "colab": {
          "base_uri": "https://localhost:8080/"
        },
        "id": "fc635cfd",
        "outputId": "4bd0e6a9-4869-4faa-af43-1e258993e6fb"
      },
      "outputs": [
        {
          "output_type": "stream",
          "name": "stdout",
          "text": [
            "tensor(1.)\n",
            "tensor(0.)\n"
          ]
        }
      ],
      "source": [
        "for X,y in training:\n",
        "    print(torch.max(X))\n",
        "    print(torch.min(X))\n",
        "    break"
      ]
    },
    {
      "cell_type": "markdown",
      "id": "79c80ebd",
      "metadata": {
        "id": "79c80ebd"
      },
      "source": [
        "We need not to scale as `DataLoader` will take care of it"
      ]
    },
    {
      "cell_type": "code",
      "execution_count": 39,
      "id": "04526108",
      "metadata": {
        "id": "04526108"
      },
      "outputs": [],
      "source": [
        "class NeuralNetwork(nn.Module):\n",
        "    def __init__(self):\n",
        "        super(NeuralNetwork,self).__init__()\n",
        "        self.flatten = nn.Flatten()\n",
        "        self.build_model = nn.Sequential(\n",
        "            nn.Linear(28*28,512), #28*28 is input shape\n",
        "            nn.ReLU(),\n",
        "            nn.Linear(512,512), #hidden layer\n",
        "            nn.ReLU(),\n",
        "            nn.Linear(512,10) #output layer\n",
        "        )\n",
        "    def forward(self,x):\n",
        "        x = self.flatten(x)\n",
        "        dnn = self.build_model(x)\n",
        "        return dnn"
      ]
    },
    {
      "cell_type": "code",
      "execution_count": 40,
      "id": "9f231265",
      "metadata": {
        "id": "9f231265"
      },
      "outputs": [],
      "source": [
        "model = NeuralNetwork()"
      ]
    },
    {
      "cell_type": "code",
      "execution_count": 41,
      "id": "a4d14188",
      "metadata": {
        "id": "a4d14188"
      },
      "outputs": [],
      "source": [
        "# compile model - Loss Function and Optimizer\n",
        "loss_fn = nn.CrossEntropyLoss()\n",
        "optimizer = torch.optim.Adam(model.parameters(), lr=1e-5)"
      ]
    },
    {
      "cell_type": "code",
      "execution_count": 42,
      "id": "c6d98186",
      "metadata": {
        "id": "c6d98186"
      },
      "outputs": [],
      "source": [
        "def train(dataloader, model, loss_fn, optimizer):\n",
        "    size = len(dataloader.dataset)\n",
        "    model.train()\n",
        "    for batch, (X, y) in enumerate(dataloader):\n",
        "        pred = model(X)\n",
        "        loss = loss_fn(pred, y)\n",
        "\n",
        "        # Backpropagation\n",
        "        optimizer.zero_grad()\n",
        "        loss.backward()\n",
        "        optimizer.step()\n",
        "\n",
        "        if batch % 100 == 0:\n",
        "            loss, current = loss.item(), batch * len(X)\n",
        "            print(f\"loss: {loss:>7f}  [{current:>5d}/{size:>5d}]\")"
      ]
    },
    {
      "cell_type": "code",
      "execution_count": 43,
      "id": "903c35c7",
      "metadata": {
        "id": "903c35c7"
      },
      "outputs": [],
      "source": [
        "def test(dataloader, model, loss_fn):\n",
        "    size = len(dataloader.dataset)\n",
        "    num_batches = len(dataloader)\n",
        "    model.eval()\n",
        "    test_loss, correct = 0, 0\n",
        "    with torch.no_grad():\n",
        "        for X, y in dataloader:\n",
        "            pred = model(X)\n",
        "            test_loss += loss_fn(pred, y).item()\n",
        "            correct += (pred.argmax(1) == y).type(torch.float).sum().item()\n",
        "    test_loss /= num_batches\n",
        "    correct /= size\n",
        "    print(f\"Test Error: \\n Accuracy: {(100*correct):>0.1f}%, Avg loss: {test_loss:>8f} \\n\")"
      ]
    },
    {
      "cell_type": "code",
      "execution_count": 44,
      "id": "1f602c89",
      "metadata": {
        "colab": {
          "base_uri": "https://localhost:8080/"
        },
        "id": "1f602c89",
        "outputId": "01bd9878-e61c-463b-918a-fd6b24848e22"
      },
      "outputs": [
        {
          "output_type": "stream",
          "name": "stdout",
          "text": [
            "Epochs 1\n",
            "loss: 2.295091  [    0/60000]\n",
            "loss: 2.182701  [ 6400/60000]\n",
            "loss: 1.937482  [12800/60000]\n",
            "loss: 1.750344  [19200/60000]\n",
            "loss: 1.376840  [25600/60000]\n",
            "loss: 1.258488  [32000/60000]\n",
            "loss: 1.150772  [38400/60000]\n",
            "loss: 1.025404  [44800/60000]\n",
            "loss: 0.989296  [51200/60000]\n",
            "loss: 0.913991  [57600/60000]\n",
            "Test Error: \n",
            " Accuracy: 68.0%, Avg loss: 0.899948 \n",
            "\n",
            "Epochs 2\n",
            "loss: 0.927852  [    0/60000]\n",
            "loss: 0.955216  [ 6400/60000]\n",
            "loss: 0.713058  [12800/60000]\n",
            "loss: 0.901894  [19200/60000]\n",
            "loss: 0.734474  [25600/60000]\n",
            "loss: 0.744793  [32000/60000]\n",
            "loss: 0.772957  [38400/60000]\n",
            "loss: 0.744184  [44800/60000]\n",
            "loss: 0.722740  [51200/60000]\n",
            "loss: 0.726680  [57600/60000]\n",
            "Test Error: \n",
            " Accuracy: 75.4%, Avg loss: 0.701685 \n",
            "\n",
            "Epochs 3\n",
            "loss: 0.666384  [    0/60000]\n",
            "loss: 0.760281  [ 6400/60000]\n",
            "loss: 0.524933  [12800/60000]\n",
            "loss: 0.768586  [19200/60000]\n",
            "loss: 0.621881  [25600/60000]\n",
            "loss: 0.634501  [32000/60000]\n",
            "loss: 0.652979  [38400/60000]\n",
            "loss: 0.684201  [44800/60000]\n",
            "loss: 0.644534  [51200/60000]\n",
            "loss: 0.637992  [57600/60000]\n",
            "Test Error: \n",
            " Accuracy: 78.4%, Avg loss: 0.620522 \n",
            "\n",
            "Epochs 4\n",
            "loss: 0.564247  [    0/60000]\n",
            "loss: 0.658716  [ 6400/60000]\n",
            "loss: 0.446134  [12800/60000]\n",
            "loss: 0.702820  [19200/60000]\n",
            "loss: 0.567798  [25600/60000]\n",
            "loss: 0.583186  [32000/60000]\n",
            "loss: 0.584362  [38400/60000]\n",
            "loss: 0.661512  [44800/60000]\n",
            "loss: 0.614242  [51200/60000]\n",
            "loss: 0.582509  [57600/60000]\n",
            "Test Error: \n",
            " Accuracy: 80.0%, Avg loss: 0.573901 \n",
            "\n",
            "Epochs 5\n",
            "loss: 0.504875  [    0/60000]\n",
            "loss: 0.597596  [ 6400/60000]\n",
            "loss: 0.401879  [12800/60000]\n",
            "loss: 0.658974  [19200/60000]\n",
            "loss: 0.533585  [25600/60000]\n",
            "loss: 0.551331  [32000/60000]\n",
            "loss: 0.540432  [38400/60000]\n",
            "loss: 0.652051  [44800/60000]\n",
            "loss: 0.600339  [51200/60000]\n",
            "loss: 0.542461  [57600/60000]\n",
            "Test Error: \n",
            " Accuracy: 81.1%, Avg loss: 0.543743 \n",
            "\n",
            "Done!\n"
          ]
        }
      ],
      "source": [
        "for epoch in range(5):\n",
        "    print(f\"Epochs {epoch+1}\")\n",
        "    train(training, model, loss_fn, optimizer)\n",
        "    test(testing, model, loss_fn)\n",
        "print(\"Done!\")"
      ]
    },
    {
      "cell_type": "markdown",
      "source": [
        "## Predict"
      ],
      "metadata": {
        "id": "rXbWp2KqUU9-"
      },
      "id": "rXbWp2KqUU9-"
    },
    {
      "cell_type": "code",
      "source": [
        "classes = ['T-shirt/top', 'Trouser', 'Pullover', 'Dress', 'Coat',\n",
        "               'Sandal', 'Shirt', 'Sneaker', 'Bag', 'Ankle Boot']"
      ],
      "metadata": {
        "id": "a2GLXu3zUh4U"
      },
      "id": "a2GLXu3zUh4U",
      "execution_count": 50,
      "outputs": []
    },
    {
      "cell_type": "code",
      "execution_count": 45,
      "id": "c9bed895",
      "metadata": {
        "id": "c9bed895"
      },
      "outputs": [],
      "source": [
        "img, label = test_data[4]"
      ]
    },
    {
      "cell_type": "code",
      "source": [
        "plt.imshow(img[0])\n",
        "plt.title(classes[label])"
      ],
      "metadata": {
        "colab": {
          "base_uri": "https://localhost:8080/",
          "height": 469
        },
        "id": "cRodYf0YUTa5",
        "outputId": "929b3627-fa6c-4318-fdaa-66a8dd87aac6"
      },
      "id": "cRodYf0YUTa5",
      "execution_count": 51,
      "outputs": [
        {
          "output_type": "execute_result",
          "data": {
            "text/plain": [
              "Text(0.5, 1.0, 'Shirt')"
            ]
          },
          "metadata": {},
          "execution_count": 51
        },
        {
          "output_type": "display_data",
          "data": {
            "text/plain": [
              "<Figure size 640x480 with 1 Axes>"
            ],
            "image/png": "[encoded data removed]"
          },
          "metadata": {}
        }
      ]
    },
    {
      "cell_type": "code",
      "source": [
        "img_tensor = img.unsqueeze(0)  # Add batch dimension\n",
        "\n",
        "model.eval()\n",
        "with torch.no_grad():\n",
        "    pred = model(img_tensor)\n",
        "    predicted_label = pred.argmax(1).item()"
      ],
      "metadata": {
        "id": "bxbzW2aRUdUw"
      },
      "id": "bxbzW2aRUdUw",
      "execution_count": 52,
      "outputs": []
    },
    {
      "cell_type": "code",
      "source": [
        "predicted_label"
      ],
      "metadata": {
        "colab": {
          "base_uri": "https://localhost:8080/"
        },
        "id": "S_4YNUxPUo1y",
        "outputId": "f1383d9b-30e6-4dfe-ef0c-9b7b736ab979"
      },
      "id": "S_4YNUxPUo1y",
      "execution_count": 53,
      "outputs": [
        {
          "output_type": "execute_result",
          "data": {
            "text/plain": [
              "6"
            ]
          },
          "metadata": {},
          "execution_count": 53
        }
      ]
    },
    {
      "cell_type": "code",
      "source": [
        "plt.imshow(img.squeeze(), cmap=\"gray\")\n",
        "plt.title(f\"True: {classes[label]}, Predicted: {classes[predicted_label]}\")\n",
        "plt.axis('off')\n",
        "plt.show()"
      ],
      "metadata": {
        "colab": {
          "base_uri": "https://localhost:8080/",
          "height": 428
        },
        "id": "lCBjg_eJUuS3",
        "outputId": "54eb3e35-d13a-4d77-e6ca-e0fca06b1520"
      },
      "id": "lCBjg_eJUuS3",
      "execution_count": 54,
      "outputs": [
        {
          "output_type": "display_data",
          "data": {
            "text/plain": [
              "<Figure size 640x480 with 1 Axes>"
            ],
            "image/png": "[encoded data removed]"
          },
          "metadata": {}
        }
      ]
    }
  ],
  "metadata": {
    "kernelspec": {
      "display_name": "Python 3 (ipykernel)",
      "language": "python",
      "name": "python3"
    },
    "language_info": {
      "codemirror_mode": {
        "name": "ipython",
        "version": 3
      },
      "file_extension": ".py",
      "mimetype": "text/x-python",
      "name": "python",
      "nbconvert_exporter": "python",
      "pygments_lexer": "ipython3",
      "version": "3.10.4"
    },
    "colab": {
      "provenance": []
    }
  },
  "nbformat": 4,
  "nbformat_minor": 5
}