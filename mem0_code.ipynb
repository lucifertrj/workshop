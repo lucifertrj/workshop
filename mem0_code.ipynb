{
  "nbformat": 4,
  "nbformat_minor": 0,
  "metadata": {
    "colab": {
      "provenance": []
    },
    "kernelspec": {
      "name": "python3",
      "display_name": "Python 3"
    },
    "language_info": {
      "name": "python"
    }
  },
  "cells": [
    {
      "cell_type": "code",
      "execution_count": null,
      "metadata": {
        "id": "MoZ3SB6Z-Ozu"
      },
      "outputs": [],
      "source": [
        "!pip install mem0ai langchain"
      ]
    },
    {
      "cell_type": "code",
      "source": [
        "!pip install -U langchain-groq"
      ],
      "metadata": {
        "id": "h8MGpCzwES7G"
      },
      "execution_count": null,
      "outputs": []
    },
    {
      "cell_type": "code",
      "source": [
        "from typing import List, Dict\n",
        "from langchain_groq import ChatGroq\n",
        "from langchain_core.messages import SystemMessage, HumanMessage, AIMessage\n",
        "from langchain_core.prompts import ChatPromptTemplate, MessagesPlaceholder\n",
        "from mem0 import MemoryClient"
      ],
      "metadata": {
        "id": "ft0SUk6oBpIo"
      },
      "execution_count": null,
      "outputs": []
    },
    {
      "cell_type": "markdown",
      "source": [
        "Get your API key:\n",
        "- https://app.mem0.ai/dashboard/api-keys\n",
        "- https://console.groq.com/keys"
      ],
      "metadata": {
        "id": "1_tjYN-2Ew2Z"
      }
    },
    {
      "cell_type": "code",
      "source": [
        "import os\n",
        "os.environ[\"GROQ_API_KEY\"] = \"\"\n",
        "os.environ[\"MEM0_API_KEY\"] = \"\""
      ],
      "metadata": {
        "id": "yx57VV2f-siC"
      },
      "execution_count": null,
      "outputs": []
    },
    {
      "cell_type": "code",
      "source": [
        "prompt = ChatPromptTemplate.from_messages([\n",
        "    SystemMessage(content=\"\"\"You are a knowledgeable educational mentor AI. Use the provided context to guide students, suggest study strategies, and recommend resources for learning.\n",
        "    Help answer questions about academic topics, provide explanations for complex concepts, and motivate students to achieve their goals.\n",
        "    If you don’t have specific information, offer general advice on effective learning techniques and time management.\n",
        "    Keep response brief and concise\n",
        "    \"\"\"),\n",
        "    MessagesPlaceholder(variable_name=\"context\"),\n",
        "    HumanMessage(content=\"{input}\")\n",
        "])"
      ],
      "metadata": {
        "id": "dgYQrpVFB5s-"
      },
      "execution_count": null,
      "outputs": []
    },
    {
      "cell_type": "code",
      "source": [
        "llm = ChatGroq(model=\"llama-3.3-70b-versatile\")\n",
        "mem0 = MemoryClient(api_key=os.environ[\"MEM0_API_KEY\"])"
      ],
      "metadata": {
        "id": "UNobCdDwChyz"
      },
      "execution_count": null,
      "outputs": []
    },
    {
      "cell_type": "code",
      "source": [
        "def retrieve_context(query: str, user_id: str) -> List[Dict]:\n",
        "    \"\"\"Retrieve relevant context from Mem0\"\"\"\n",
        "    memories = mem0.search(query, user_id=user_id)\n",
        "    seralized_memories = ' '.join([mem[\"memory\"] for mem in memories])\n",
        "    context = [\n",
        "        {\n",
        "            \"role\": \"system\",\n",
        "            \"content\": f\"Relevant information: {seralized_memories}\"\n",
        "        },\n",
        "        {\n",
        "            \"role\": \"user\",\n",
        "            \"content\": query\n",
        "        }\n",
        "    ]\n",
        "    return context\n",
        "\n",
        "def generate_response(input: str, context: List[Dict]) -> str:\n",
        "    \"\"\"Generate a response using the language model\"\"\"\n",
        "    chain = prompt | llm\n",
        "    response = chain.invoke({\n",
        "        \"context\": context,\n",
        "        \"input\": input\n",
        "    })\n",
        "    return response.content\n",
        "\n",
        "def save_interaction(user_id: str, user_input: str, assistant_response: str):\n",
        "    \"\"\"Save the interaction to Mem0\"\"\"\n",
        "    interaction = [\n",
        "        {\n",
        "          \"role\": \"user\",\n",
        "          \"content\": user_input\n",
        "        },\n",
        "        {\n",
        "            \"role\": \"assistant\",\n",
        "            \"content\": assistant_response\n",
        "        }\n",
        "    ]\n",
        "    mem0.add(interaction, user_id=user_id)"
      ],
      "metadata": {
        "id": "JKrwbeTJCUCw"
      },
      "execution_count": null,
      "outputs": []
    },
    {
      "cell_type": "code",
      "source": [
        "def chat_turn(user_input: str, user_id: str) -> str:\n",
        "    # Retrieve context\n",
        "    context = retrieve_context(user_input, user_id)\n",
        "\n",
        "    # Generate response\n",
        "    response = generate_response(user_input, context)\n",
        "\n",
        "    # Save interaction\n",
        "    save_interaction(user_id, user_input, response)\n",
        "\n",
        "    return response"
      ],
      "metadata": {
        "id": "eRsPfusoCuUI"
      },
      "execution_count": null,
      "outputs": []
    },
    {
      "cell_type": "code",
      "source": [
        "if __name__ == \"__main__\":\n",
        "    print(\"Welcome to your EduTech! How can I assist you today?\")\n",
        "    user_id = \"john\"\n",
        "\n",
        "    while True:\n",
        "        user_input = input(\"You: \")\n",
        "        if user_input.lower() in ['quit', 'exit', 'bye']:\n",
        "            print(\"EduTech Agent: Happy learning!\")\n",
        "            break\n",
        "\n",
        "        response = chat_turn(user_input, user_id)\n",
        "        print(f\"EduTech Agent: {response}\")"
      ],
      "metadata": {
        "colab": {
          "base_uri": "https://localhost:8080/"
        },
        "id": "04JbP2qIC3Rl",
        "outputId": "c33d829e-8586-4d64-d93a-0cecb3b3d768"
      },
      "execution_count": null,
      "outputs": [
        {
          "output_type": "stream",
          "name": "stdout",
          "text": [
            "Welcome to your EduTech! How can I assist you today?\n",
            "You: Tarun likes Physics. Harsha likes Maths\n",
            "EduTech Agent: It seems like Tarun and Harsha have similar interests, with Tarun enjoying Physics and Harsha enjoying Maths. Both subjects are closely related and often complement each other. Tarun can explore how Maths is used in Physics, while Harsha can see the practical applications of Maths in Physics. This overlap can help deepen their understanding and appreciation of both subjects.\n",
            "You: what is Tarun's favourite subject \n",
            "EduTech Agent: Tarun has two favourite subjects: Physics and Maths.\n",
            "You: what about Harsha?\n",
            "EduTech Agent: It seems like you didn't provide any context or information about Harsha. Could you please provide more details or clarify your question so I can better assist you?\n",
            "You: quit\n",
            "EduTech Agent: Happy learning!\n"
          ]
        }
      ]
    }
  ]
}