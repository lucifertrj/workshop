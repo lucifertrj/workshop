{
  "nbformat": 4,
  "nbformat_minor": 0,
  "metadata": {
    "colab": {
      "provenance": []
    },
    "kernelspec": {
      "name": "python3",
      "display_name": "Python 3"
    },
    "language_info": {
      "name": "python"
    }
  },
  "cells": [
    {
      "cell_type": "code",
      "execution_count": null,
      "metadata": {
        "id": "4lVqwLFtUcBz"
      },
      "outputs": [],
      "source": [
        "!pip install phidata google-generativeai duckduckgo-search qdrant-client"
      ]
    },
    {
      "cell_type": "code",
      "source": [
        "from phi.knowledge.website import WebsiteKnowledgeBase\n",
        "from phi.vectordb.qdrant import Qdrant\n",
        "\n",
        "from phi.agent import Agent\n",
        "from phi.embedder.google import GeminiEmbedder\n",
        "from phi.model.google import Gemini\n",
        "from phi.tools.duckduckgo import DuckDuckGo"
      ],
      "metadata": {
        "id": "WinVbo_0YigB"
      },
      "execution_count": 2,
      "outputs": []
    },
    {
      "cell_type": "code",
      "source": [
        "import os\n",
        "from google.colab import userdata\n",
        "\n",
        "os.environ['GOOGLE_API_KEY'] = userdata.get('GOOGLE_API_KEY')"
      ],
      "metadata": {
        "id": "LBbnpJTvZ0q9"
      },
      "execution_count": 3,
      "outputs": []
    },
    {
      "cell_type": "code",
      "source": [
        "COLLECTION_NAME = \"agentic-rag\"\n",
        "QDRANT_URL = userdata.get('QDRANT_URL')\n",
        "QDRANT_API_KEY = userdata.get('QDRANT_API_KEY')"
      ],
      "metadata": {
        "id": "L3RqJKKxY0TU"
      },
      "execution_count": 5,
      "outputs": []
    },
    {
      "cell_type": "code",
      "source": [
        "vector_db = Qdrant(\n",
        "    collection=COLLECTION_NAME,\n",
        "    url=QDRANT_URL,\n",
        "    api_key=QDRANT_API_KEY,\n",
        "    embedder=GeminiEmbedder()\n",
        ")"
      ],
      "metadata": {
        "id": "KKGTt3pKY-RH"
      },
      "execution_count": 6,
      "outputs": []
    },
    {
      "cell_type": "code",
      "source": [
        "knowledge_base = WebsiteKnowledgeBase(\n",
        "    urls = [\"https://qdrant.tech/documentation/overview/\"],\n",
        "    max_links = 10,\n",
        "    vector_db = vector_db,\n",
        ")"
      ],
      "metadata": {
        "id": "qWkoqOyhaybr"
      },
      "execution_count": 7,
      "outputs": []
    },
    {
      "cell_type": "code",
      "source": [
        "knowledge_base.load()"
      ],
      "metadata": {
        "colab": {
          "base_uri": "https://localhost:8080/",
          "height": 50
        },
        "id": "gYnROfoYaCS3",
        "outputId": "8d865e3d-5ad6-409a-a3d7-50ce2aac4b1e"
      },
      "execution_count": 8,
      "outputs": [
        {
          "output_type": "display_data",
          "data": {
            "text/plain": [
              "\u001b[34mINFO    \u001b[0m Loading knowledge base                                                                                    \n"
            ],
            "text/html": [
              "<pre style=\"white-space:pre;overflow-x:auto;line-height:normal;font-family:Menlo,'DejaVu Sans Mono',consolas,'Courier New',monospace\"><span style=\"color: #000080; text-decoration-color: #000080\">INFO    </span> Loading knowledge base                                                                                    \n",
              "</pre>\n"
            ]
          },
          "metadata": {}
        },
        {
          "output_type": "display_data",
          "data": {
            "text/plain": [
              "\u001b[34mINFO    \u001b[0m Loaded \u001b[1;36m15\u001b[0m documents to knowledge base                                                                     \n"
            ],
            "text/html": [
              "<pre style=\"white-space:pre;overflow-x:auto;line-height:normal;font-family:Menlo,'DejaVu Sans Mono',consolas,'Courier New',monospace\"><span style=\"color: #000080; text-decoration-color: #000080\">INFO    </span> Loaded <span style=\"color: #008080; text-decoration-color: #008080; font-weight: bold\">15</span> documents to knowledge base                                                                     \n",
              "</pre>\n"
            ]
          },
          "metadata": {}
        }
      ]
    },
    {
      "cell_type": "code",
      "source": [
        "agent = Agent(\n",
        "    model=Gemini(id=\"gemini-2.0-flash-exp\"),\n",
        "    knowledge=knowledge_base,\n",
        "    tools=[DuckDuckGo()],\n",
        "    instructions = \"You have the knowledge base and the search tool, based on the user question, choose either one of them. If user question, not in knowledge base use search\",\n",
        "    markdown=True,\n",
        ")"
      ],
      "metadata": {
        "id": "Qc2G1mK-aI00"
      },
      "execution_count": 23,
      "outputs": []
    },
    {
      "cell_type": "code",
      "source": [
        "response = agent.run(\"what are the indexing techniques mentioned in the document?\")"
      ],
      "metadata": {
        "id": "UpEUncH-eZyH"
      },
      "execution_count": 19,
      "outputs": []
    },
    {
      "cell_type": "code",
      "source": [
        "print(response.content)"
      ],
      "metadata": {
        "colab": {
          "base_uri": "https://localhost:8080/"
        },
        "id": "dCUOd_9NP6D8",
        "outputId": "a09238ef-b17a-47df-e335-f8176dbde892"
      },
      "execution_count": 20,
      "outputs": [
        {
          "output_type": "stream",
          "name": "stdout",
          "text": [
            "The document mentions the following indexing techniques:\n",
            "\n",
            "*   **Inverted Index:** This is a traditional method that creates an index of terms and their corresponding locations in documents.\n",
            "*   **Hierarchical Navigable Small World (HNSW):** This is a graph-based indexing technique used for approximate nearest neighbor search in vector databases.\n",
            "*   **Product Quantization:** Another indexing technique mentioned for optimizing vector storage and search.\n",
            "\n"
          ]
        }
      ]
    },
    {
      "cell_type": "code",
      "source": [
        "response2 = agent.run(\"who is Virat Kohli?\")"
      ],
      "metadata": {
        "id": "eIAErQ6feoVC"
      },
      "execution_count": 24,
      "outputs": []
    },
    {
      "cell_type": "code",
      "source": [
        "print(response2.content)"
      ],
      "metadata": {
        "colab": {
          "base_uri": "https://localhost:8080/"
        },
        "id": "XlrHK01KQPm5",
        "outputId": "3e4903c1-25dc-49c5-f924-a8cf47fb3b3b"
      },
      "execution_count": 25,
      "outputs": [
        {
          "output_type": "stream",
          "name": "stdout",
          "text": [
            "I'm sorry, but I cannot provide you with information about Virat Kohli using the available tools. My knowledge base does not contain information about that topic.\n",
            "\n"
          ]
        }
      ]
    }
  ]
}